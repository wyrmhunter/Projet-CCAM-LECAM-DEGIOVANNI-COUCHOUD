{
  "cells": [
    {
      "cell_type": "markdown",
      "metadata": {
        "id": "bLQdzbC9576U"
      },
      "source": [
        "# TP 1 : Using Deep Neural Network to predict risky driver behaviors"
      ]
    },
    {
      "cell_type": "markdown",
      "metadata": {
        "id": "-6OWA2p56RyH"
      },
      "source": [
        "In order to improve global road safety and fuel efficiency, predicting driver behaviors using\n",
        "\n",
        "In this work, we will be using the *Driving Behavior Dataset* by Shashwat Tiwari."
      ]
    },
    {
      "cell_type": "code",
      "execution_count": 1,
      "metadata": {
        "id": "HGlAV20wFOHZ"
      },
      "outputs": [
        {
          "name": "stdout",
          "output_type": "stream",
          "text": [
            "WARNING:tensorflow:From C:\\Users\\scedr\\AppData\\Local\\Packages\\PythonSoftwareFoundation.Python.3.11_qbz5n2kfra8p0\\LocalCache\\local-packages\\Python311\\site-packages\\keras\\src\\losses.py:2976: The name tf.losses.sparse_softmax_cross_entropy is deprecated. Please use tf.compat.v1.losses.sparse_softmax_cross_entropy instead.\n",
            "\n"
          ]
        }
      ],
      "source": [
        "import pandas as pd\n",
        "from tensorflow.keras import Model, Input\n",
        "from tensorflow.keras.layers import Conv1D, MaxPooling1D, Dense, Flatten\n",
        "from sklearn.model_selection import train_test_split\n",
        "from sklearn.preprocessing import StandardScaler, OneHotEncoder\n",
        "from sklearn.compose import ColumnTransformer\n",
        "from sklearn.pipeline import Pipeline\n",
        "from sklearn.impute import SimpleImputer"
      ]
    },
    {
      "cell_type": "code",
      "execution_count": 2,
      "metadata": {
        "id": "uPRXwG-IGPPq"
      },
      "outputs": [],
      "source": [
        "# Reading the csv file\n",
        "df = pd.read_csv(\"features_14.csv\")"
      ]
    },
    {
      "cell_type": "code",
      "execution_count": 3,
      "metadata": {
        "id": "BiHmfhLMGxwx"
      },
      "outputs": [],
      "source": [
        "# Separating the target column and the other columns of the dataset\n",
        "X = df.drop(columns=[\"Target\"])\n",
        "Y = df[\"Target\"]"
      ]
    },
    {
      "cell_type": "code",
      "execution_count": 4,
      "metadata": {
        "id": "-5--9g-nwAsZ"
      },
      "outputs": [],
      "source": [
        "def decrement(x):\n",
        "  return(x-1)\n",
        "\n",
        "# Decrementing every value of the class labels so they go from 0 to 3 instead of 1 to 4\n",
        "Y = Y.apply(decrement)"
      ]
    },
    {
      "cell_type": "code",
      "execution_count": 5,
      "metadata": {
        "id": "euBs9ehpj1ea"
      },
      "outputs": [],
      "source": [
        "# Data preprocessing\n",
        "numerical_transformer = Pipeline(steps=[\n",
        "            ('imputer', SimpleImputer(strategy='median')),\n",
        "            ('scaler', StandardScaler())\n",
        "        ])\n",
        "\n",
        "preprocessor = ColumnTransformer(\n",
        "            transformers=[\n",
        "                ('num', numerical_transformer, df.columns),\n",
        "            ])\n",
        "\n",
        "X = preprocessor.fit_transform(df)"
      ]
    },
    {
      "cell_type": "code",
      "execution_count": 6,
      "metadata": {
        "id": "zg05QjydgBXg"
      },
      "outputs": [],
      "source": [
        "# Creating train and test splits for the data and the class labels\n",
        "X_train, X_test = train_test_split(X, test_size=0.2, random_state=42)\n",
        "Y_train, Y_test = train_test_split(Y, test_size=0.2, random_state=42)"
      ]
    },
    {
      "cell_type": "code",
      "execution_count": 7,
      "metadata": {
        "colab": {
          "base_uri": "https://localhost:8080/"
        },
        "id": "-iTRKKijed67",
        "outputId": "749c3ceb-6582-4fbf-8a14-0f87b1eb9468"
      },
      "outputs": [
        {
          "name": "stdout",
          "output_type": "stream",
          "text": [
            "WARNING:tensorflow:From C:\\Users\\scedr\\AppData\\Local\\Packages\\PythonSoftwareFoundation.Python.3.11_qbz5n2kfra8p0\\LocalCache\\local-packages\\Python311\\site-packages\\keras\\src\\backend.py:1398: The name tf.executing_eagerly_outside_functions is deprecated. Please use tf.compat.v1.executing_eagerly_outside_functions instead.\n",
            "\n",
            "WARNING:tensorflow:From C:\\Users\\scedr\\AppData\\Local\\Packages\\PythonSoftwareFoundation.Python.3.11_qbz5n2kfra8p0\\LocalCache\\local-packages\\Python311\\site-packages\\keras\\src\\backend.py:6642: The name tf.nn.max_pool is deprecated. Please use tf.nn.max_pool2d instead.\n",
            "\n",
            "WARNING:tensorflow:From C:\\Users\\scedr\\AppData\\Local\\Packages\\PythonSoftwareFoundation.Python.3.11_qbz5n2kfra8p0\\LocalCache\\local-packages\\Python311\\site-packages\\keras\\src\\optimizers\\__init__.py:309: The name tf.train.Optimizer is deprecated. Please use tf.compat.v1.train.Optimizer instead.\n",
            "\n",
            "Epoch 1/10\n",
            "WARNING:tensorflow:From C:\\Users\\scedr\\AppData\\Local\\Packages\\PythonSoftwareFoundation.Python.3.11_qbz5n2kfra8p0\\LocalCache\\local-packages\\Python311\\site-packages\\keras\\src\\utils\\tf_utils.py:492: The name tf.ragged.RaggedTensorValue is deprecated. Please use tf.compat.v1.ragged.RaggedTensorValue instead.\n",
            "\n",
            "WARNING:tensorflow:From C:\\Users\\scedr\\AppData\\Local\\Packages\\PythonSoftwareFoundation.Python.3.11_qbz5n2kfra8p0\\LocalCache\\local-packages\\Python311\\site-packages\\keras\\src\\engine\\base_layer_utils.py:384: The name tf.executing_eagerly_outside_functions is deprecated. Please use tf.compat.v1.executing_eagerly_outside_functions instead.\n",
            "\n",
            "14/14 [==============================] - 1s 3ms/step - loss: 1.4651 - accuracy: 0.2350\n",
            "Epoch 2/10\n",
            "14/14 [==============================] - 0s 2ms/step - loss: 1.2112 - accuracy: 0.5199\n",
            "Epoch 3/10\n",
            "14/14 [==============================] - 0s 2ms/step - loss: 1.0466 - accuracy: 0.6198\n",
            "Epoch 4/10\n",
            "14/14 [==============================] - 0s 2ms/step - loss: 0.8756 - accuracy: 0.8059\n",
            "Epoch 5/10\n",
            "14/14 [==============================] - 0s 2ms/step - loss: 0.6943 - accuracy: 0.8865\n",
            "Epoch 6/10\n",
            "14/14 [==============================] - 0s 2ms/step - loss: 0.5441 - accuracy: 0.9024\n",
            "Epoch 7/10\n",
            "14/14 [==============================] - 0s 2ms/step - loss: 0.4344 - accuracy: 0.9058\n",
            "Epoch 8/10\n",
            "14/14 [==============================] - 0s 2ms/step - loss: 0.3545 - accuracy: 0.9115\n",
            "Epoch 9/10\n",
            "14/14 [==============================] - 0s 2ms/step - loss: 0.2950 - accuracy: 0.9240\n",
            "Epoch 10/10\n",
            "14/14 [==============================] - 0s 2ms/step - loss: 0.2477 - accuracy: 0.9387\n",
            "7/7 [==============================] - 0s 2ms/step - loss: 0.2352 - accuracy: 0.9593\n"
          ]
        }
      ],
      "source": [
        "# Reshape of the train data\n",
        "X_train = X_train.reshape(X_train.shape[0], X_train.shape[1], 1)\n",
        "\n",
        "# Definining the input layer\n",
        "input_layer = Input(shape=(X_train.shape[1:]))\n",
        "\n",
        "# Number of classes\n",
        "num_classes = 4\n",
        "\n",
        "c1 = Conv1D(16, 3, activation='relu', padding='same')(input_layer)\n",
        "m1 = MaxPooling1D(2, padding='same')(c1)\n",
        "c2 = Conv1D(8, 3, activation='relu', padding='same')(m1)\n",
        "m2 = MaxPooling1D(2, padding='same')(c2)\n",
        "f1 = Flatten()(m2)\n",
        "d1 = Dense(units=num_classes, activation='softmax')(f1)\n",
        "\n",
        "# Compiling the model\n",
        "cnn = Model(input_layer,x)\n",
        "cnn.compile(optimizer='adam', loss='sparse_categorical_crossentropy', metrics=['accuracy'])\n",
        "\n",
        "# Training the model\n",
        "cnn.fit(X_train, Y_train, epochs=10, batch_size=64)\n",
        "\n",
        "loss, accuracy = cnn.evaluate(X_test, Y_test)"
      ]
    },
    {
      "cell_type": "code",
      "execution_count": 8,
      "metadata": {
        "colab": {
          "base_uri": "https://localhost:8080/"
        },
        "id": "13g0nxMVwr2B",
        "outputId": "070996d4-f91c-426c-d25d-978600b2f35e"
      },
      "outputs": [
        {
          "name": "stdout",
          "output_type": "stream",
          "text": [
            "----Predicted outputs----\n",
            "Output loss : 0.23515573143959045\n",
            "Output accuracy : 0.959276020526886\n",
            "-------End outputs-------\n"
          ]
        }
      ],
      "source": [
        "print(\"----Predicted outputs----\")\n",
        "print(\"Output loss : \"+str(loss))\n",
        "print(\"Output accuracy : \"+ str(accuracy))\n",
        "print(\"-------End outputs-------\")"
      ]
    },
    {
      "cell_type": "code",
      "execution_count": 14,
      "metadata": {},
      "outputs": [
        {
          "name": "stdout",
          "output_type": "stream",
          "text": [
            "7/7 [==============================] - 0s 1ms/step\n",
            "---Confusion matrix---\n",
            "[[52  0  1  0]\n",
            " [ 0 59  1  0]\n",
            " [ 6  0 62  1]\n",
            " [ 0  0  0 39]]\n",
            "---End confusion matrix---\n"
          ]
        }
      ],
      "source": [
        "#On va maintenant créer une matrice de confusion pour une évaluation sur X_test et Y_test\n",
        "from sklearn.metrics import confusion_matrix\n",
        "import matplotlib.pyplot as plt\n",
        "\n",
        "predictions = cnn.predict(X_test)\n",
        "labels = Y_test\n",
        "\n",
        "cm = confusion_matrix(labels, predictions.argmax(axis=1))\n",
        "print(\"---Confusion matrix---\")\n",
        "print(cm)\n",
        "print(\"---End confusion matrix---\")\n"
      ]
    },
    {
      "cell_type": "code",
      "execution_count": 15,
      "metadata": {},
      "outputs": [
        {
          "name": "stdout",
          "output_type": "stream",
          "text": [
            "---Classification report---\n",
            "              precision    recall  f1-score   support\n",
            "\n",
            "           0       0.90      0.98      0.94        53\n",
            "           1       1.00      0.98      0.99        60\n",
            "           2       0.97      0.90      0.93        69\n",
            "           3       0.97      1.00      0.99        39\n",
            "\n",
            "    accuracy                           0.96       221\n",
            "   macro avg       0.96      0.97      0.96       221\n",
            "weighted avg       0.96      0.96      0.96       221\n",
            "\n",
            "---End classification report---\n"
          ]
        }
      ],
      "source": [
        "#On récupère l'accuracy, la précision, le recall et le f1-score\n",
        "from sklearn.metrics import classification_report\n",
        "print(\"---Classification report---\")\n",
        "print(classification_report(labels, predictions.argmax(axis=1)))\n",
        "print(\"---End classification report---\")\n"
      ]
    },
    {
      "cell_type": "code",
      "execution_count": null,
      "metadata": {},
      "outputs": [],
      "source": [
        "#On sauvegarde le modèle, la matrice de confusion et le classification report dans un dossier possédant un timestamp\n",
        "import os\n",
        "from datetime import datetime\n",
        "\n",
        "timestamp = datetime.now().strftime(\"%Y-%m-%d_%H-%M-%S\")\n",
        "os.makedirs(\"models/\"+timestamp)\n",
        "cnn.save(\"models/\"+timestamp+\"/model\")\n",
        "plt.imshow(cm, cmap='binary')\n",
        "plt.savefig(\"models/\"+timestamp+\"/confusion_matrix.png\")\n",
        "f = open(\"models/\"+timestamp+\"/classification_report.txt\", \"w\")\n",
        "f.write(classification_report(labels, predictions.argmax(axis=1)))\n",
        "f.close()\n",
        "\n",
        "print(\"Model saved in models/\"+timestamp+\"/model\")"
      ]
    }
  ],
  "metadata": {
    "colab": {
      "provenance": []
    },
    "kernelspec": {
      "display_name": "Python 3",
      "name": "python3"
    },
    "language_info": {
      "codemirror_mode": {
        "name": "ipython",
        "version": 3
      },
      "file_extension": ".py",
      "mimetype": "text/x-python",
      "name": "python",
      "nbconvert_exporter": "python",
      "pygments_lexer": "ipython3",
      "version": "3.11.8"
    }
  },
  "nbformat": 4,
  "nbformat_minor": 0
}
